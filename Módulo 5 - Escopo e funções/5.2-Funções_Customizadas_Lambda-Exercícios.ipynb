{
 "cells": [
  {
   "cell_type": "markdown",
   "id": "cbdff5a5",
   "metadata": {},
   "source": [
    "# Módulo 5 - Funções\n",
    "\n",
    "## Aulas 5.2 - Funções Customizadas e 5.4 Funções ```lambda```"
   ]
  },
  {
   "cell_type": "markdown",
   "id": "28a3fee2",
   "metadata": {},
   "source": [
    "### Q1.\n",
    "\n",
    "- Sabendo que o código a seguir calcula o fatorial de n, escreva uma função chamada ```fatorial()``` que recebe um inteiro ```n``` como parâmetro e retorna o resultado do fatorial de ```n```. \n",
    "- No programa principal, peça ao usuário o valor de ```n```, chame a sua função e imprima o retorno.\n",
    "\n",
    "```python\n",
    "fat = 1\n",
    "for i in range(1, n+1):\n",
    "    fat *= i \n",
    "```"
   ]
  },
  {
   "cell_type": "code",
   "execution_count": 1,
   "id": "d126b3a5",
   "metadata": {},
   "outputs": [],
   "source": [
    "## Crie aqui a função fatorial()\n",
    "## lembre-se de executar a célula para que \n",
    "## a função passe a existir e possa ser chamada\n",
    "def fat(x):\n",
    "    result = 1\n",
    "    for i in range(x):\n",
    "        result *= x\n",
    "        x -= 1\n",
    "    return(result)"
   ]
  },
  {
   "cell_type": "code",
   "execution_count": 2,
   "id": "6e4fe64e",
   "metadata": {},
   "outputs": [
    {
     "name": "stdin",
     "output_type": "stream",
     "text": [
      "Digite o valor:  3\n"
     ]
    },
    {
     "name": "stdout",
     "output_type": "stream",
     "text": [
      "6\n"
     ]
    }
   ],
   "source": [
    "## Escreva aqui o programa principal e execute a célula\n",
    "n = int(input(\"Digite o valor: \"))\n",
    "print(fat(n))"
   ]
  },
  {
   "cell_type": "markdown",
   "id": "c0a1f599",
   "metadata": {},
   "source": [
    "### Q2.\n",
    "\n",
    "- Escreva uma função em Python chamada ```soma_quadrados``` que recebe dois números como parâmetros e retorna a soma dos seus quadrados. \n",
    "- No programa principal solicite ao usuário que insira dois números e utilize a função para exibir a soma dos quadrados."
   ]
  },
  {
   "cell_type": "code",
   "execution_count": 3,
   "id": "6dbddaad",
   "metadata": {},
   "outputs": [],
   "source": [
    "## Crie aqui a função soma_quadrados()\n",
    "def soma_quadrados(x,y):\n",
    "    quadx = x*x\n",
    "    quady = y*y\n",
    "    somaquad = quady + quadx\n",
    "    return(somaquad)"
   ]
  },
  {
   "cell_type": "code",
   "execution_count": 4,
   "id": "9175a7da",
   "metadata": {},
   "outputs": [
    {
     "name": "stdin",
     "output_type": "stream",
     "text": [
      "Digite o primeiro número:  3\n",
      "Digite o outro número 5\n"
     ]
    },
    {
     "name": "stdout",
     "output_type": "stream",
     "text": [
      "A soma dos quadrados dos números é: 34\n"
     ]
    }
   ],
   "source": [
    "## Escreva aqui o programa principal e execute a célula\n",
    "c1, c2 = int(input(\"Digite o primeiro número: \")), int(input(\"Digite o outro número\"))\n",
    "print(f\"A soma dos quadrados dos números é: {soma_quadrados(c1,c2)}\")"
   ]
  },
  {
   "cell_type": "markdown",
   "id": "6ba34ce0",
   "metadata": {},
   "source": [
    "### Q3.\n",
    "\n",
    "- Crie uma função em Python chamada ```soma_digitos``` que recebe um número inteiro como parâmetro e retorna a soma dos seus dígitos. Por exemplo, para o número 123, a função deve retornar 6, $(1 + 2 + 3)$.\n",
    "    - O desafio aqui é separar os dígitos de um número inteiro usando operações aritméticas <br> <br>\n",
    "\n",
    "- No programa principal solicite ao usuário que insira um número e utilize a função ```soma_digitos``` para calcular e exibir a soma dos seus dígitos."
   ]
  },
  {
   "cell_type": "code",
   "execution_count": 25,
   "id": "34838ebf",
   "metadata": {},
   "outputs": [],
   "source": [
    "## Crie aqui a função soma_digitos()\n",
    "def soma_digitos(n):\n",
    "    u = n%10\n",
    "    d = (n%100)//10\n",
    "    c = (n%1000)//100\n",
    "    m = (n%10000)//1000\n",
    "    soma = u + d + c+ m \n",
    "    return(soma)"
   ]
  },
  {
   "cell_type": "code",
   "execution_count": 26,
   "id": "27c35b21",
   "metadata": {},
   "outputs": [
    {
     "name": "stdin",
     "output_type": "stream",
     "text": [
      "Digite o número:  4589\n"
     ]
    },
    {
     "name": "stdout",
     "output_type": "stream",
     "text": [
      "26\n"
     ]
    }
   ],
   "source": [
    "## Escreva aqui o programa principal e execute a célula\n",
    "número = int(input(\"Digite o número: \"))\n",
    "print(soma_digitos(número))"
   ]
  },
  {
   "cell_type": "markdown",
   "id": "c318b159",
   "metadata": {},
   "source": [
    "### Q4.\n",
    "\n",
    "- Crie a função ```inverteValor()``` que recebe um inteiro de qualquer tamanho e retorna esse valor invertido usando apenas operações aritméticas\n",
    "- Crie a função ```verificaInverso()``` que recebe o valor original e o valor invertido e retorna verdadeiro se ambos forem igualmente par ou igualmente ímpar. Retorne falso caso contrário.\n",
    "- No programa principal, peça um valor do usuário e imprima o retorno de ambas as funções.\n"
   ]
  },
  {
   "cell_type": "code",
   "execution_count": 118,
   "id": "e4e47d1d",
   "metadata": {},
   "outputs": [],
   "source": [
    "## Crie aqui as funções inverteValor() e verificaInverso()\n",
    "def inverteValor(n):\n",
    "    num = n\n",
    "    digs=0\n",
    "    valor=0\n",
    "    while n>0:\n",
    "        n = n//10\n",
    "        digs+=1\n",
    "    for i in range(digs):\n",
    "        d = num%10\n",
    "        num = num//10\n",
    "        valor += d*10**digs\n",
    "        digs-=1\n",
    "    inverso = valor/10\n",
    "    return(inverso)\n",
    "def verificaInverso(a,b):\n",
    "    va = a%2\n",
    "    vb = b%2\n",
    "    if va == vb:\n",
    "        return(True)\n",
    "    else:\n",
    "        return(False)\n"
   ]
  },
  {
   "cell_type": "code",
   "execution_count": 119,
   "id": "a9514e56",
   "metadata": {},
   "outputs": [
    {
     "name": "stdin",
     "output_type": "stream",
     "text": [
      "Digite um número inteiro:  8564\n"
     ]
    },
    {
     "name": "stdout",
     "output_type": "stream",
     "text": [
      "O inverso do valor é 4658\n",
      "True\n"
     ]
    }
   ],
   "source": [
    "## Escreva aqui o programa principal e execute a célula\n",
    "valor = int(input(\"Digite um número inteiro: \"))\n",
    "inverso = inverteValor(valor)\n",
    "print(f\"O inverso do valor é {inverteValor(valor):.0f}\")\n",
    "print(verificaInverso(valor, inverso))"
   ]
  },
  {
   "cell_type": "markdown",
   "id": "329be966",
   "metadata": {},
   "source": [
    "### Q5.\n",
    "\n",
    "Você está desenvolvendo um programa para auxiliar em cálculos de geometria básica. Crie as seguintes funções:\n",
    "- A função ```calcula_perimetro_triangulo()``` que recebe três inteiros correspondentes aos lados de um triângulo e retorna o perímetro do triângulo, ou seja, a soma dos seus lados.\n",
    "- A função ```calcula_perimetro_circulo()``` que recebe um inteiro referente ao raio do círculo e retorna o perímetro do círculo, dado por $2 \\pi r$. Use a constante $\\pi$ da biblioteca ```math```.\n",
    "- A função ```calcula_perimetro_retangulo()``` que possui um parâmetro obrigatório ```lado1``` e um opcional ```lado2```, ambos inteiros. Se o valor opcional não for fornecido, significa que se trata de um quadrado. Sua função deve calcular e retornar o perímetro do retângulo, ou seja, a soma de seus lados. \n",
    "    - Para o quadrado, é dado por $4 \\times lado1$\n",
    "    - Para o retângulo é dado por $2 \\times lado1 + 2 \\times lado2$\n",
    "    \n",
    "- No programa principal apresente um menu com as opções disponíveis do seu sistema e uma quarta opção ```Sair```. Solicite ao usuário a opção desejada, solicite as entradas correspondentes à opção escolhida, invoque a respective função e apresente o seu retorno. Seu programa deve retornar ao menu até que o usuário escolha a opção ```Sair```\n",
    "\n",
    "Exemplo de interação:\n",
    "```\n",
    "1 - Calcular perímetro triângulo\n",
    "2 - Calcular perímetro círculo\n",
    "3 - Calcular perímetro retângulo\n",
    "4 - Sair\n",
    "\n",
    "Opção: 1\n",
    "Digite os três lados do triângulo:\n",
    "3\n",
    "4\n",
    "5\n",
    "O perímetro é: 12\n",
    "\n",
    "1 - Calcular perímetro triângulo\n",
    "2 - Calcular perímetro círculo\n",
    "3 - Calcular perímetro retângulo\n",
    "4 - Sair\n",
    "\n",
    "Opção: 3\n",
    "Informe os dois lados do retângulo. Se for um quadrado, digite 0 para o segundo valor:\n",
    "5\n",
    "0\n",
    "O perímetro é: 20\n",
    "\n",
    "1 - Calcular perímetro triângulo\n",
    "2 - Calcular perímetro círculo\n",
    "3 - Calcular perímetro retângulo\n",
    "4 - Sair\n",
    "\n",
    "Opção: 4\n",
    "```"
   ]
  },
  {
   "cell_type": "code",
   "execution_count": 14,
   "id": "0793d328",
   "metadata": {},
   "outputs": [],
   "source": [
    "## Crie aqui as funções \n",
    "import math\n",
    "def calcula_perimetro_triangulo(a,b,c):\n",
    "    perimetro = a+b+c\n",
    "    return(perimetro)\n",
    "def calcula_perimetro_circulo(r):\n",
    "    perimetro = 2*math.pi*2\n",
    "    return(perimetro)\n",
    "def calcula_perimetro_retangulo(a,b=None): \n",
    "    if b==None:\n",
    "        perimetro=a*4\n",
    "    else:\n",
    "        perimetro = a+2*b\n",
    "    return(perimetro)"
   ]
  },
  {
   "cell_type": "code",
   "execution_count": 15,
   "id": "36269c71",
   "metadata": {},
   "outputs": [
    {
     "name": "stdin",
     "output_type": "stream",
     "text": [
      "Escolha qual perimetro deseja calcular: 1-Triângulo, 2-Círculo, 3-Retângulo/Quadrado ou 4-Sair 3\n",
      "Deseja calcular um retângulo(1) ou um quadrado(2)?  1\n",
      "Digite o tamanho de um dos lados do retângulo:  2\n",
      "Digite o tamanho de um dos lados do retângulo:  3\n"
     ]
    },
    {
     "name": "stdout",
     "output_type": "stream",
     "text": [
      "8.0\n"
     ]
    },
    {
     "name": "stdin",
     "output_type": "stream",
     "text": [
      "Escolha qual perimetro deseja calcular: 1-Triângulo, 2-Círculo, 3-Retângulo/Quadrado ou 4-Sair 3\n",
      "Deseja calcular um retângulo(1) ou um quadrado(2)?  2\n",
      "Digite o tamanho do lado do quadrado:  5\n"
     ]
    },
    {
     "name": "stdout",
     "output_type": "stream",
     "text": [
      "20.0\n"
     ]
    },
    {
     "name": "stdin",
     "output_type": "stream",
     "text": [
      "Escolha qual perimetro deseja calcular: 1-Triângulo, 2-Círculo, 3-Retângulo/Quadrado ou 4-Sair 4\n"
     ]
    }
   ],
   "source": [
    "## Escreva aqui o programa principal \n",
    "while 1>0:\n",
    "    escolha = int(input(\"Escolha qual perimetro deseja calcular: 1-Triângulo, 2-Círculo, 3-Retângulo/Quadrado ou 4-Sair\"))\n",
    "    if escolha==4:\n",
    "        break\n",
    "    if escolha==1:\n",
    "        l1, l2, l3 = float(input(\"Digite o tamanho do lado 1: \")), float(input(\"Digite o tamanho do lado 2: \")), float(input(\"Digite o tamanho do lado 3: \"))\n",
    "        print(f\"O perímetro do triângulo é {calcula_perimetro_triangulo(l1, l2, l3)}\")\n",
    "    if escolha==2:\n",
    "        r= float(input(\"Digite o tamanho do raio do círculo: \"))\n",
    "        print(f\"O perímetro do círculo é {calcula_perimetro_circulo(r):0.2f}\")\n",
    "    if escolha==3:\n",
    "        qr = int(input(\"Deseja calcular um retângulo(1) ou um quadrado(2)? \"))\n",
    "        if qr==1:\n",
    "            lado1 = float(input(\"Digite o tamanho de um dos lados do retângulo: \"))\n",
    "            lado2 = float(input(\"Digite o tamanho de um dos lados do retângulo: \"))\n",
    "            print(calcula_perimetro_retangulo(lado1, lado2))\n",
    "        if qr==2:\n",
    "            lado = float(input(\"Digite o tamanho do lado do quadrado: \"))\n",
    "            print(calcula_perimetro_retangulo(lado))\n"
   ]
  },
  {
   "cell_type": "markdown",
   "id": "3016bcc7",
   "metadata": {},
   "source": [
    "## Funções ```lambda```"
   ]
  },
  {
   "cell_type": "markdown",
   "id": "f9cdb8dd",
   "metadata": {},
   "source": [
    "### Q6.\n",
    "\n",
    "Crie uma função lambda para verificar se um número é par ou ímpar. Em seguida, solicite ao usuário um número indefinidos de valores (até que o usuário digite 0). Para cada valor de entrada, informe se é par ou ímpar.\n",
    "\n",
    "Exemplo de interação:\n",
    "```\n",
    "Digite os valores que deseja verificar a paridade (digite 0 para finalizar a entrada de dados):\n",
    "3\n",
    "ímpar\n",
    "8\n",
    "par\n",
    "12\n",
    "par\n",
    "5\n",
    "ímpar\n",
    "7ímpar\n",
    "```"
   ]
  },
  {
   "cell_type": "code",
   "execution_count": 2,
   "id": "e3c31a78",
   "metadata": {},
   "outputs": [
    {
     "name": "stdin",
     "output_type": "stream",
     "text": [
      "Digite um número:  2\n"
     ]
    },
    {
     "name": "stdout",
     "output_type": "stream",
     "text": [
      "Par\n"
     ]
    },
    {
     "name": "stdin",
     "output_type": "stream",
     "text": [
      "Digite um número:  5\n"
     ]
    },
    {
     "name": "stdout",
     "output_type": "stream",
     "text": [
      "Ímpar\n"
     ]
    },
    {
     "name": "stdin",
     "output_type": "stream",
     "text": [
      "Digite um número:  8\n"
     ]
    },
    {
     "name": "stdout",
     "output_type": "stream",
     "text": [
      "Par\n"
     ]
    },
    {
     "name": "stdin",
     "output_type": "stream",
     "text": [
      "Digite um número:  7\n"
     ]
    },
    {
     "name": "stdout",
     "output_type": "stream",
     "text": [
      "Ímpar\n"
     ]
    },
    {
     "name": "stdin",
     "output_type": "stream",
     "text": [
      "Digite um número:  5985\n"
     ]
    },
    {
     "name": "stdout",
     "output_type": "stream",
     "text": [
      "Ímpar\n"
     ]
    },
    {
     "name": "stdin",
     "output_type": "stream",
     "text": [
      "Digite um número:  6587\n"
     ]
    },
    {
     "name": "stdout",
     "output_type": "stream",
     "text": [
      "Ímpar\n"
     ]
    },
    {
     "name": "stdin",
     "output_type": "stream",
     "text": [
      "Digite um número:  5676\n"
     ]
    },
    {
     "name": "stdout",
     "output_type": "stream",
     "text": [
      "Par\n"
     ]
    },
    {
     "name": "stdin",
     "output_type": "stream",
     "text": [
      "Digite um número:  0\n"
     ]
    }
   ],
   "source": [
    "paridade=lambda x: \"Par\" if (x%2)==0 else \"Ímpar\"\n",
    "while 1>0:\n",
    "    num = int(input(\"Digite um número: \"))\n",
    "    if num==0:\n",
    "        break\n",
    "    print(paridade(num))"
   ]
  },
  {
   "cell_type": "markdown",
   "id": "5a87474d",
   "metadata": {},
   "source": [
    "### Q7.\n",
    "\n",
    "Escreva um programa que pergunte ao usuário qual operação ele deseja: maior ou menor.\n",
    "Em seguida leia uma quantidade indefinida de valores do usuário, até que o usuário digite o valor zero.\n",
    "Apresente ao final o maior ou menor dos valores digitados de acordo com a escolha do usuário.\n",
    "\n",
    "**Sua solução deve incluir pelo menos uma função ```lambda```** \n",
    "\n",
    "Exemplo de interação:\n",
    "```\n",
    "Opções: (1) maior ou (2) menor?\n",
    "Opção: 1\n",
    "\n",
    "Digite os valores de entrada. Digite 0 para finalizar a entrada de valores.\n",
    "4\n",
    "12\n",
    "15\n",
    "1\n",
    "0\n",
    "\n",
    "O maior valor é: 15\n",
    "```"
   ]
  },
  {
   "cell_type": "code",
   "execution_count": 16,
   "id": "ee3f68ca",
   "metadata": {},
   "outputs": [
    {
     "name": "stdin",
     "output_type": "stream",
     "text": [
      "Você quer descobrir qual o número é maior(1) ou qual é menor(2)?  1\n",
      "Digite um número ou digite 0 para parar:  54\n",
      "Digite um número ou digite 0 para parar:  7952\n",
      "Digite um número ou digite 0 para parar:  84852\n",
      "Digite um número ou digite 0 para parar:  26578\n",
      "Digite um número ou digite 0 para parar:  0\n"
     ]
    },
    {
     "name": "stdout",
     "output_type": "stream",
     "text": [
      "O maior valor é 84852\n"
     ]
    }
   ],
   "source": [
    "maior_menor= int(input(\"Você quer descobrir qual o número é maior(1) ou qual é menor(2)? \"))\n",
    "\n",
    "if maior_menor==1:\n",
    "    sin=\"maior\"\n",
    "    resposta=float('-inf')\n",
    "    func = lambda x,y: x>y\n",
    "else:\n",
    "    sin=\"menor\"\n",
    "    resposta=float('inf')\n",
    "    func = lambda x,y: x<y\n",
    "while 1<2:\n",
    "    num=int(input(\"Digite um número ou digite 0 para parar: \"))\n",
    "    if num==0:\n",
    "        break\n",
    "    if func(num,resposta):\n",
    "        resposta = num\n",
    "print(f\"O {sin} valor é {resposta}\")"
   ]
  },
  {
   "cell_type": "code",
   "execution_count": null,
   "id": "52f41bb0-a24c-495b-b150-ee38d6d6280b",
   "metadata": {},
   "outputs": [],
   "source": []
  }
 ],
 "metadata": {
  "kernelspec": {
   "display_name": "Python 3 (ipykernel)",
   "language": "python",
   "name": "python3"
  },
  "language_info": {
   "codemirror_mode": {
    "name": "ipython",
    "version": 3
   },
   "file_extension": ".py",
   "mimetype": "text/x-python",
   "name": "python",
   "nbconvert_exporter": "python",
   "pygments_lexer": "ipython3",
   "version": "3.11.7"
  }
 },
 "nbformat": 4,
 "nbformat_minor": 5
}
