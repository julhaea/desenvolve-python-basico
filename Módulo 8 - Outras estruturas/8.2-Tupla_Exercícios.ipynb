{
 "cells": [
  {
   "cell_type": "markdown",
   "id": "0d5035b5",
   "metadata": {},
   "source": [
    "# Tupla\n",
    "\n",
    "## Aula 8.2"
   ]
  },
  {
   "cell_type": "markdown",
   "id": "0bdece85",
   "metadata": {},
   "source": [
    "### Q1. \n",
    "\n",
    "Escreva uma função ```calcula_area_perimetro``` que recebe **apenas um parâmetro** ```dimensoes``` e calcula a área e o perímetro a partir das dimensões dadas. \n",
    "- ```dimensoes``` é uma tupla (largura, comprimento) com as dimensões de um terreno retangular\n",
    "- Sua função deve calcular e retornar as seguintes operações\n",
    "   - $area = largura \\times comprimento$\n",
    "   - $perimetro = 2\\times(largura + comprimento)$\n"
   ]
  },
  {
   "cell_type": "code",
   "execution_count": 3,
   "id": "0a258eba",
   "metadata": {},
   "outputs": [],
   "source": [
    "# Implemente aqui a função calcula_area_perimetro\n",
    "def calcula_area_perimetro(lc):\n",
    "    area=lc[0]*lc[1]\n",
    "    perimetro=2*(lc[0]+lc[1])\n",
    "    return area, perimetro"
   ]
  },
  {
   "cell_type": "code",
   "execution_count": 4,
   "id": "e1866c04",
   "metadata": {},
   "outputs": [
    {
     "name": "stdout",
     "output_type": "stream",
     "text": [
      "(35, 24) <class 'tuple'>\n"
     ]
    }
   ],
   "source": [
    "# Complete o exemplo de uso abaixo\n",
    "largura = 5\n",
    "comprimento = 7\n",
    "dimensoes=largura,comprimento\n",
    "retorno = calcula_area_perimetro(dimensoes)\n",
    "print(retorno, type(retorno))"
   ]
  },
  {
   "cell_type": "markdown",
   "id": "cbdcb986",
   "metadata": {},
   "source": [
    "### Q2.\n",
    "\n",
    "Dada uma string, imprima todas as vogais que aparecem na string, bem como todos os índices onde elas ocorrem. Para isso, use a função ```enumerate```.\n"
   ]
  },
  {
   "cell_type": "code",
   "execution_count": 5,
   "id": "1f6b1f2d",
   "metadata": {},
   "outputs": [
    {
     "name": "stdout",
     "output_type": "stream",
     "text": [
      "A vogal o aparece no indice 0\n",
      "A vogal a aparece no indice 3\n",
      "A vogal o aparece no indice 5\n",
      "A vogal o aparece no indice 8\n",
      "A vogal e aparece no indice 9\n",
      "A vogal u aparece no indice 10\n",
      "A vogal a aparece no indice 12\n",
      "A vogal o aparece no indice 15\n",
      "A vogal u aparece no indice 16\n",
      "A vogal a aparece no indice 18\n",
      "A vogal a aparece no indice 21\n",
      "A vogal a aparece no indice 23\n",
      "A vogal i aparece no indice 25\n",
      "A vogal e aparece no indice 27\n"
     ]
    }
   ],
   "source": [
    "frase = \"O rato roeu a roupa da Alice\"\n",
    "frase=frase.lower()\n",
    "for indice,letra in enumerate(frase):\n",
    "    vogais=\"aeiou\"\n",
    "    if letra in vogais:\n",
    "        print(f\"A vogal {letra} aparece no indice {indice}\")\n",
    "# Implemente aqui sua solução"
   ]
  },
  {
   "cell_type": "markdown",
   "id": "8d46663f",
   "metadata": {},
   "source": [
    "### Q3.\n",
    "\n",
    "Escreva uma função em Python chamada ```ordenar_tuplas``` que recebe uma lista de tuplas, cada uma contendo o nome de um aluno e sua respectiva média, e retorna uma nova lista ordenada em ordem decrescente de médias."
   ]
  },
  {
   "cell_type": "code",
   "execution_count": 35,
   "id": "469f2e6e",
   "metadata": {},
   "outputs": [],
   "source": [
    "# Implemente aqui a função ordenar_tuplas\n",
    "def ordenar_tuplas(lista):\n",
    "    notas=[]\n",
    "    for tupla in lista:\n",
    "        notas.append(tupla[1])\n",
    "    notas=sorted(notas)\n",
    "    notas=notas[::-1]\n",
    "    for tupla in lista:\n",
    "        x=notas.index(tupla[1])\n",
    "        notas[x]=tupla[0],tupla[1]\n",
    "    return notas\n",
    "        "
   ]
  },
  {
   "cell_type": "code",
   "execution_count": 36,
   "id": "1972c62b",
   "metadata": {},
   "outputs": [
    {
     "name": "stdout",
     "output_type": "stream",
     "text": [
      "[('Charlie', 9.0), ('David', 8.8), ('Alice', 8.5), ('Bob', 7.2)]\n"
     ]
    }
   ],
   "source": [
    "# Exemplo de uso:\n",
    "alunos_notas = [('Alice', 8.5), ('Bob', 7.2), ('Charlie', 9.0), ('David', 8.8)]\n",
    "resultado = ordenar_tuplas(alunos_notas)\n",
    "print(resultado)\n",
    "# Saída esperada: [('Charlie', 9.0), ('David', 8.8), ('Alice', 8.5), ('Bob', 7.2)]"
   ]
  },
  {
   "cell_type": "markdown",
   "id": "e0268fae",
   "metadata": {},
   "source": [
    "### Q4.\n",
    "\n",
    "Escreva uma função em Python chamada ```comprimir_tuplas``` que recebe uma lista de tuplas, cada uma contendo uma palavra e um número, e retorna uma nova lista de tuplas onde palavras idênticas são agrupadas e seus números são somados.\n",
    "\n"
   ]
  },
  {
   "cell_type": "code",
   "execution_count": 2,
   "id": "30a221f3",
   "metadata": {},
   "outputs": [],
   "source": [
    "# Implemente aqui a função comprimir_tuplas\n",
    "def comprimir_tuplas(lista):\n",
    "    lista_frutas=[]\n",
    "    lista_quant=[]\n",
    "    for tupla in lista:\n",
    "        if tupla[0] in lista_frutas:\n",
    "            x =lista_frutas.index(tupla[0])\n",
    "            lista_quant[x]=lista_quant[x]+tupla[1]\n",
    "        else:\n",
    "            lista_frutas.append(tupla[0])\n",
    "            lista_quant.append(tupla[1])\n",
    "    lista_alterada=[]\n",
    "    for i in range(len(lista_frutas)):\n",
    "        tupla=lista_frutas[i],lista_quant[i]\n",
    "        lista_alterada.append(tupla)\n",
    "    return lista_alterada\n",
    "            \n",
    "        \n",
    "        "
   ]
  },
  {
   "cell_type": "code",
   "execution_count": 3,
   "id": "80972bac",
   "metadata": {},
   "outputs": [
    {
     "name": "stdout",
     "output_type": "stream",
     "text": [
      "[('maçã', 8), ('banana', 5), ('laranja', 1)]\n"
     ]
    }
   ],
   "source": [
    "# Exemplo de uso:\n",
    "tuplas_originais = [('maçã', 3), ('banana', 2), ('maçã', 5), ('laranja', 1), ('banana', 3)]\n",
    "resultado = comprimir_tuplas(tuplas_originais)\n",
    "print(resultado)\n",
    "# Saída esperada: [('maçã', 8), ('banana', 5), ('laranja', 1)]"
   ]
  },
  {
   "cell_type": "markdown",
   "id": "649a5082",
   "metadata": {},
   "source": [
    "### Q5. \n",
    "\n",
    "- Escreva um script que peça o nome e a idade de todos na fila de uma balada. Crie uma lista de tuplas com os pares ```(nome, idade)``` de cada um. \n",
    "- Em seguida crie e imprima duas tuplas apenas com os nomes, uma com os menores de idade que não poderão entrar, e uma com os maiores de idade (```idade >= 18```). \n",
    "\n"
   ]
  },
  {
   "cell_type": "code",
   "execution_count": 11,
   "id": "47cb0573",
   "metadata": {},
   "outputs": [
    {
     "name": "stdin",
     "output_type": "stream",
     "text": [
      "Digite o número de pessoas que estão na fila:  5\n",
      "Digite o nome da pessoa:  Ana\n",
      "Digite a idade da pessoa: 18\n",
      "Digite o nome da pessoa:  Júlia\n",
      "Digite a idade da pessoa: 15\n",
      "Digite o nome da pessoa:  Gabriel\n",
      "Digite a idade da pessoa: 24\n",
      "Digite o nome da pessoa:  Luigi\n",
      "Digite a idade da pessoa: 16\n",
      "Digite o nome da pessoa:  Aline\n",
      "Digite a idade da pessoa: 21\n"
     ]
    },
    {
     "name": "stdout",
     "output_type": "stream",
     "text": [
      "Pessoas Permitidas: ('Ana', 'Gabriel', 'Aline')\n",
      "Pessoas Proibidas: ('Júlia', 'Luigi')\n"
     ]
    }
   ],
   "source": [
    "## Implemente aqui sua solução\n",
    "n=int(input(\"Digite o número de pessoas que estão na fila: \"))\n",
    "listaPessoas=[]\n",
    "for i in range(n):\n",
    "    nome=input(\"Digite o nome da pessoa: \")\n",
    "    idade=int(input(\"Digite a idade da pessoa:\"))\n",
    "    tupla=nome,idade\n",
    "    listaPessoas.append(tupla)\n",
    "pessoasPermitidas=[]\n",
    "pessoasProibidas=[]\n",
    "for dados in listaPessoas:\n",
    "    if dados[1]<18: pessoasProibidas.append(dados[0])\n",
    "    else: pessoasPermitidas.append(dados[0])\n",
    "tupPermitidas=tuple(pessoasPermitidas)\n",
    "tupProibidas=tuple(pessoasProibidas)\n",
    "\n",
    "print(f\"Pessoas Permitidas: {tupPermitidas}\\nPessoas Proibidas: {tupProibidas}\")\n",
    "    "
   ]
  },
  {
   "cell_type": "code",
   "execution_count": null,
   "id": "20500e98-74a6-454c-9552-250a91dff61d",
   "metadata": {},
   "outputs": [],
   "source": []
  }
 ],
 "metadata": {
  "kernelspec": {
   "display_name": "Python 3 (ipykernel)",
   "language": "python",
   "name": "python3"
  },
  "language_info": {
   "codemirror_mode": {
    "name": "ipython",
    "version": 3
   },
   "file_extension": ".py",
   "mimetype": "text/x-python",
   "name": "python",
   "nbconvert_exporter": "python",
   "pygments_lexer": "ipython3",
   "version": "3.11.7"
  }
 },
 "nbformat": 4,
 "nbformat_minor": 5
}
