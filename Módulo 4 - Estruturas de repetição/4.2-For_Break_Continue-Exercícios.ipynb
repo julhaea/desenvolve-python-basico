{
 "cells": [
  {
   "cell_type": "markdown",
   "id": "29e89030",
   "metadata": {},
   "source": [
    "# Módulo 4 - Repetições\n",
    "\n",
    "## Aulas 4.2 - Comando ```for``` e 4.3 Break e Continue"
   ]
  },
  {
   "cell_type": "markdown",
   "id": "a45b42df",
   "metadata": {},
   "source": [
    "### Q1.\n",
    "\n",
    "Crie um programa em Python que utilize o comando for para imprimir os números de 10 a 1, em ordem decrescente."
   ]
  },
  {
   "cell_type": "code",
   "execution_count": 6,
   "id": "55a75b3d",
   "metadata": {},
   "outputs": [
    {
     "name": "stdout",
     "output_type": "stream",
     "text": [
      "10\n",
      "9\n",
      "8\n",
      "7\n",
      "6\n",
      "5\n",
      "4\n",
      "3\n",
      "2\n",
      "1\n"
     ]
    }
   ],
   "source": [
    "for i in range(10,0,-1):\n",
    "    print(i)\n"
   ]
  },
  {
   "cell_type": "markdown",
   "id": "94b47c36",
   "metadata": {},
   "source": [
    "### Q2.\n",
    "\n",
    "Dado um número inteiro positivo informado pelo usuário, crie um programa em Python que utilize o comando for para calcular e exibir a soma dos números de 1 até o número informado. Ou seja, $1 + 2 + 3 + ... + n$\n",
    "\n",
    "Exemplo de interação:\n",
    "```\n",
    "Digite um número: 5\n",
    "A soma dos números de 1 a 5 é 15\n",
    "```\n"
   ]
  },
  {
   "cell_type": "code",
   "execution_count": 9,
   "id": "45b71596",
   "metadata": {},
   "outputs": [
    {
     "name": "stdin",
     "output_type": "stream",
     "text": [
      "Digite um número:  4\n"
     ]
    },
    {
     "name": "stdout",
     "output_type": "stream",
     "text": [
      "A soma dos números de 1 a 4 é 10.\n"
     ]
    }
   ],
   "source": [
    "n = int(input(\"Digite um número: \"))\n",
    "soma=0\n",
    "for i in range(1, n+1):\n",
    "    soma+=i\n",
    "print(f\"A soma dos números de 1 a {n} é {soma}.\")\n",
    "    \n"
   ]
  },
  {
   "cell_type": "markdown",
   "id": "0411d170",
   "metadata": {},
   "source": [
    "### Q3.\n",
    "\n",
    "Escreva um programa que lê 10 valores inteiros positivos do usuário e ao final imprime a média dos valores digitados com duas casas decimais.\n",
    "\n",
    "```\n",
    "Digite 10 números positivos:\n",
    "3\n",
    "2\n",
    "12\n",
    "14\n",
    "20\n",
    "42\n",
    "19\n",
    "0\n",
    "8\n",
    "1\n",
    "A média dos valores digitados é 12.10\n",
    "```"
   ]
  },
  {
   "cell_type": "code",
   "execution_count": 14,
   "id": "3f72f358",
   "metadata": {},
   "outputs": [
    {
     "name": "stdin",
     "output_type": "stream",
     "text": [
      "Digite um número inteiro:  20\n",
      "Digite um número inteiro:  20\n",
      "Digite um número inteiro:  20\n",
      "Digite um número inteiro:  20\n",
      "Digite um número inteiro:  20\n",
      "Digite um número inteiro:  40\n",
      "Digite um número inteiro:  40\n",
      "Digite um número inteiro:  40\n",
      "Digite um número inteiro:  40\n",
      "Digite um número inteiro:  40\n"
     ]
    },
    {
     "name": "stdout",
     "output_type": "stream",
     "text": [
      "A média dos valores digitados é 30.0.\n"
     ]
    }
   ],
   "source": [
    "soma=0\n",
    "for i in range(10):\n",
    "    n=int(input(\"Digite um número inteiro: \"))\n",
    "    soma+=n\n",
    "media=soma/10\n",
    "print(f\"A média dos valores digitados é {media}.\")"
   ]
  },
  {
   "cell_type": "markdown",
   "id": "d62e27ff",
   "metadata": {},
   "source": [
    "### Q4.\n",
    "\n",
    "Você vai criar um sistema que registra os resultados dos jogos do Atlético MG ao longo de um campeonato. Seu sistema vai receber os resultados de todos os jogos do Galo, e deve calcular a pontuação do time sabendo que vitórias valem 3 pontos, empates 1 ponto e derrotas 0 pontos.\n",
    "\n",
    "Entrada: <br>\n",
    "A primeira linha de entrada é um inteiro N com a quantidade jogos do galo. Para cada jogo você deve ler 2 inteiros, o primeiro com a quantidade de gols do galo e o segundo com a quantidade de gols do time oponente. \n",
    "\n",
    "Saída: <br>\n",
    "Apresente a soma de vitórias, empates e derrotas do galo, junto com o cálculo da pontuação total.\n",
    "\n",
    "Ex:\n",
    "```\n",
    "Entrada:\n",
    "4\n",
    "2\n",
    "0\n",
    "1\n",
    "1\n",
    "0\n",
    "3\n",
    "1\n",
    "0\n",
    "\n",
    "Saída:\n",
    "Vitórias: 2\n",
    "Empates: 1\n",
    "Derrotas: 1\n",
    "Pontuação: 7\n",
    "\n",
    "```\n",
    "\n",
    "\n"
   ]
  },
  {
   "cell_type": "code",
   "execution_count": 87,
   "id": "d3fdfc2a",
   "metadata": {},
   "outputs": [
    {
     "name": "stdin",
     "output_type": "stream",
     "text": [
      "Quantos jogos?  4\n",
      "Quantos gols o galo fez?  1\n",
      "Quantos gols o time adversário fez?  0\n",
      "Quantos gols o galo fez?  2\n",
      "Quantos gols o time adversário fez?  3\n",
      "Quantos gols o galo fez?  2\n",
      "Quantos gols o time adversário fez?  2\n",
      "Quantos gols o galo fez?  0\n",
      "Quantos gols o time adversário fez?  2\n"
     ]
    },
    {
     "name": "stdout",
     "output_type": "stream",
     "text": [
      "Vitórias: 1\n",
      "Empates: 1\n",
      "Derrotas: 2\n",
      "Pontuação: 4\n"
     ]
    }
   ],
   "source": [
    "n = int(input(\"Quantos jogos? \"))\n",
    "pont, vit, der, emp = 0, 0, 0, 0\n",
    "for n in range(n):\n",
    "    galo = int(input(\"Quantos gols o galo fez? \"))\n",
    "    adv = int(input(\"Quantos gols o time adversário fez? \"))\n",
    "    if galo > adv:\n",
    "        vit+=1\n",
    "        pont+=3\n",
    "    elif galo == adv:\n",
    "        emp+=1\n",
    "        pont+=1\n",
    "    else:\n",
    "        der+=1\n",
    "print(f\"Vitórias: {vit}\")\n",
    "print(f\"Empates: {emp}\")\n",
    "print(f\"Derrotas: {der}\")\n",
    "print(f\"Pontuação: {pont}\")\n",
    "        "
   ]
  },
  {
   "cell_type": "markdown",
   "id": "fc98604d",
   "metadata": {},
   "source": [
    "### Q5.\n",
    "\n",
    "Faça um programa que lê dois inteiros N e M, e imprime na tela um campo de batalha naval. O tabuleiro deve possuir N linhas e M colunas. A primeira linha é composta por um espaço em branco e o cabeçalho das colunas, ou seja, valores de 1 a M. As N linhas seguintes iniciam com o cabeçalho da linha, ou seja, seu número, seguido de M caracteres \"/\" (barra) indicando uma possível posição jogável. \n",
    "\n",
    "```\n",
    "Entrada:\n",
    "5\n",
    "4\n",
    "\n",
    "Saída:\n",
    "  1 2 3 4 \n",
    "1 / / / / \n",
    "2 / / / / \n",
    "3 / / / / \n",
    "4 / / / / \n",
    "5 / / / / \n",
    "```\n",
    "\n",
    "Para esse exercício, precisamos lembrar que o comando print implicitamente adiciona uma quebra de linha ao final da impressão. Podemos interferir no final da impressão adicionando mais uma entrada ao print. No exemplo, finalizamos cada linha com um espaço em branco:\n",
    "```python\n",
    "print(\"Texto qualquer\", end = \" \")\n",
    "```"
   ]
  },
  {
   "cell_type": "code",
   "execution_count": 43,
   "id": "a60ef197",
   "metadata": {},
   "outputs": [
    {
     "name": "stdin",
     "output_type": "stream",
     "text": [
      "Digite o número de linhas:  5\n",
      "Digite o número de colunas:  4\n"
     ]
    },
    {
     "name": "stdout",
     "output_type": "stream",
     "text": [
      "  1 2 3 4\n",
      "1 / / / /\n",
      "2 / / / /\n",
      "3 / / / /\n",
      "4 / / / /\n",
      "5 / / / /\n"
     ]
    }
   ],
   "source": [
    "lin = int(input(\"Digite o número de linhas: \"))\n",
    "col = int(input(\"Digite o número de colunas: \"))\n",
    "cab = str(\" \")\n",
    "linhas = str()\n",
    "for i in range(1,lin+1):\n",
    "    if i==1:\n",
    "        for n in range(1,col+1):\n",
    "            cab+= \" \" + str(n)\n",
    "        print(cab)\n",
    "    linhas = str(i) + col*\" /\"\n",
    "    print(linhas)\n",
    "    \n",
    "    \n",
    "\n",
    "\n",
    "    \n",
    "    \n",
    "    \n"
   ]
  },
  {
   "cell_type": "markdown",
   "id": "4654dc0b",
   "metadata": {},
   "source": [
    "---\n",
    "## Break e Continue"
   ]
  },
  {
   "cell_type": "markdown",
   "id": "24fe9d85",
   "metadata": {},
   "source": [
    "### Q6.\n",
    "\n",
    "Escreva um programa que lê uma quantidade indefinida de valores e informa o maior e o menor valor digitados. A leitura é encerrada quando o usuário digitar o valor 0 (zero).\n",
    "\n",
    "```\n",
    "Entrada:\n",
    "12\n",
    "-1\n",
    "29\n",
    "11\n",
    "-5\n",
    "0\n",
    "\n",
    "Saída:\n",
    "Maior: 29\n",
    "Menor: -5\n",
    "```"
   ]
  },
  {
   "cell_type": "code",
   "execution_count": 90,
   "id": "ee1c466a",
   "metadata": {},
   "outputs": [
    {
     "name": "stdin",
     "output_type": "stream",
     "text": [
      "Digite um número:  27\n",
      "Digite um número:  45\n",
      "Digite um número:  86\n",
      "Digite um número:  -12\n",
      "Digite um número:  -49\n",
      "Digite um número:  45\n",
      "Digite um número:  70\n",
      "Digite um número:  0\n"
     ]
    },
    {
     "name": "stdout",
     "output_type": "stream",
     "text": [
      "Maior: 86\n",
      "Menor: -49\n"
     ]
    }
   ],
   "source": [
    "maior, menor = float('-inf'), float('inf')\n",
    "i = 1\n",
    "while i>0:\n",
    "    x = int(input(\"Digite um número: \"))\n",
    "    if x==0:\n",
    "        break\n",
    "    if x<menor:\n",
    "        menor=x \n",
    "    if x>maior:\n",
    "        maior=x\n",
    "print(f\"Maior: {maior}\")\n",
    "print(f\"Menor: {menor}\")"
   ]
  },
  {
   "cell_type": "markdown",
   "id": "30d486f7",
   "metadata": {},
   "source": [
    "### Q7.\n",
    "\n",
    "Escreva um programa que lê uma quantidade indefinida de valores e informa o **produto** dos valores positivos digitados. A leitura é encerrada quando o usuário digitar o valor 0 (zero).\n",
    "\n",
    "```\n",
    "Entrada:\n",
    "2\n",
    "-1\n",
    "1\n",
    "3\n",
    "-5\n",
    "0\n",
    "\n",
    "Saída:\n",
    "Produto: 6\n",
    "```"
   ]
  },
  {
   "cell_type": "code",
   "execution_count": 56,
   "id": "2f1ac324",
   "metadata": {},
   "outputs": [
    {
     "name": "stdin",
     "output_type": "stream",
     "text": [
      "Digite um valor:  12\n",
      "Digite um valor:  -54\n",
      "Digite um valor:  78\n",
      "Digite um valor:  3\n",
      "Digite um valor:  0\n"
     ]
    },
    {
     "name": "stdout",
     "output_type": "stream",
     "text": [
      "Produto: 2808\n"
     ]
    }
   ],
   "source": [
    "i = 1\n",
    "mult=1\n",
    "while i>0:\n",
    "    n = int(input(\"Digite um valor: \"))\n",
    "    if n == 0:\n",
    "        break\n",
    "    if n < 0:\n",
    "        continue\n",
    "    mult*=n\n",
    "print(f\"Produto: {mult}\")"
   ]
  },
  {
   "cell_type": "markdown",
   "id": "e932f3cf",
   "metadata": {},
   "source": [
    "### Q8.\n",
    "\n",
    "Vamos fazer uma calculadora que aceita expressões aritméticas de qualquer tamanho até que o usuário digite a palavra \"Fim\". Sua calculadora executa apenas as operações \"+\", \"-\".\n",
    "\n",
    "```\n",
    "Entrada:\n",
    "5\n",
    "+\n",
    "8\n",
    "-\n",
    "3\n",
    "+\n",
    "2\n",
    "Fim\n",
    "\n",
    "Saída:\n",
    "12\n",
    "```"
   ]
  },
  {
   "cell_type": "code",
   "execution_count": 88,
   "id": "e835d870",
   "metadata": {},
   "outputs": [
    {
     "name": "stdin",
     "output_type": "stream",
     "text": [
      "Digite um número:  10\n",
      "Digite o sinal da operação ou termine a operação (fim):  +\n",
      "Digite um número:  12\n",
      "Digite o sinal da operação ou termine a operação (fim):  +\n",
      "Digite um número:  15\n",
      "Digite o sinal da operação ou termine a operação (fim):  -\n",
      "Digite um número:  7\n",
      "Digite o sinal da operação ou termine a operação (fim):  fim\n"
     ]
    },
    {
     "name": "stdout",
     "output_type": "stream",
     "text": [
      "30\n"
     ]
    }
   ],
   "source": [
    "## Escreva e execute seu código aqui\n",
    "exp = int(input(\"Digite um número: \"))\n",
    "i=1\n",
    "while i>0:\n",
    "    op = input(\"Digite o sinal da operação ou termine a operação (fim): \")\n",
    "    if op ==\"fim\":\n",
    "        break\n",
    "    n = int(input(\"Digite um número: \"))\n",
    "    if op ==\"+\":\n",
    "        exp+=n\n",
    "    if op ==\"-\":\n",
    "        exp-=n\n",
    "print(exp)\n",
    "        "
   ]
  },
  {
   "cell_type": "code",
   "execution_count": null,
   "id": "253af57b-a646-44a2-988e-5928cf56c1a6",
   "metadata": {},
   "outputs": [],
   "source": []
  },
  {
   "cell_type": "code",
   "execution_count": null,
   "id": "0c1a93a9-3d87-44c9-811c-21eb759d13e7",
   "metadata": {},
   "outputs": [],
   "source": []
  }
 ],
 "metadata": {
  "kernelspec": {
   "display_name": "Python 3 (ipykernel)",
   "language": "python",
   "name": "python3"
  },
  "language_info": {
   "codemirror_mode": {
    "name": "ipython",
    "version": 3
   },
   "file_extension": ".py",
   "mimetype": "text/x-python",
   "name": "python",
   "nbconvert_exporter": "python",
   "pygments_lexer": "ipython3",
   "version": "3.11.7"
  }
 },
 "nbformat": 4,
 "nbformat_minor": 5
}
