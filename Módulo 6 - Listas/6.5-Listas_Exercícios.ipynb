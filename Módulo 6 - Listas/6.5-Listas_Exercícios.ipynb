{
 "cells": [
  {
   "cell_type": "markdown",
   "id": "0d5035b5",
   "metadata": {},
   "source": [
    "# Listas\n",
    "\n",
    "## Aulas 6.1 a 6.5 "
   ]
  },
  {
   "cell_type": "code",
   "execution_count": 17,
   "id": "0a258eba",
   "metadata": {},
   "outputs": [
    {
     "name": "stdout",
     "output_type": "stream",
     "text": [
      "[7.07, 2.01, 16.62, 78.54]\n"
     ]
    }
   ],
   "source": [
    "## Complete a solução\n",
    "\n",
    "raios = [1.5, 0.8, 2.3, 5.0]\n",
    "\n",
    "## Complete a solução\n",
    "import math\n",
    "areas=map(lambda r:round(math.pi*(r**2),2),raios)\n",
    "print(list(areas))"
   ]
  },
  {
   "cell_type": "markdown",
   "id": "0bdece85",
   "metadata": {},
   "source": [
    "### Q1. \n",
    "\n",
    "Usando a função embutida ```map``` e criando uma função ```lambda```, transforme uma lista com os raios de múltiplas circunferências em uma nova lista com as respectivas áreas. O cálculo de cada área é dado por: ```pi*(raio**2)```\n",
    "- Use a constante pi da biblioteca math \n",
    "- Arredonde o resultado para 2 casas decimais\n"
   ]
  },
  {
   "cell_type": "markdown",
   "id": "649a5082",
   "metadata": {},
   "source": [
    "### Q2. \n",
    "\n",
    "Crie uma função customizada e aplique a função embutida ```filter``` para operar em uma lista de listas contendo os lados de múltiplos triângulos. Construa uma nova lista contendo apenas os triângulos equiláteros, ou seja, com os três lados iguais.\n"
   ]
  },
  {
   "cell_type": "code",
   "execution_count": 21,
   "id": "47cb0573",
   "metadata": {},
   "outputs": [
    {
     "name": "stdout",
     "output_type": "stream",
     "text": [
      "[[2, 2, 2], [4, 4, 4]]\n"
     ]
    }
   ],
   "source": [
    "## Crie a função customizada\n",
    "def testa_equilatero(lados): return lados[0]==lados[1]==lados[2]\n",
    "    ### \n",
    "\n",
    "### Usando filter, aplique a função customizada aos seguintes triangulos\n",
    "triangulos  = [[2,2,2], [3,4,5], [3,2,2],[4,4,4]]\n",
    "equilateros=filter(testa_equilatero,triangulos)\n",
    "print(list(equilateros))"
   ]
  },
  {
   "cell_type": "markdown",
   "id": "bb62d219",
   "metadata": {},
   "source": [
    "### Q3. \n",
    "Crie uma função chamada ```ordena_por_comprimento``` que aceite uma lista de strings e a ordene com base no comprimento das strings, do menor para o maior. Utilize a função ```sorte``` e uma expressão ```lambda```."
   ]
  },
  {
   "cell_type": "code",
   "execution_count": 32,
   "id": "add41556",
   "metadata": {},
   "outputs": [
    {
     "name": "stdout",
     "output_type": "stream",
     "text": [
      "['Sol', 'Joao', 'Jose', 'Luna', 'Enzo', 'Maria', 'Bento', 'Gabriela', 'Fernanda']\n"
     ]
    }
   ],
   "source": [
    "### crie a função ordena_por_comprimento e retorne a lista resultado\n",
    "def ordena_por_tamanho(nomes,tamanhos):\n",
    "    for nome in nomes:\n",
    "        ix=tamanhos.index(len(nome))\n",
    "        tamanhos[ix]=nome\n",
    "    return tamanhos\n",
    "### aplique sua função à seguinte lista e imprima o resultado\n",
    "nomes = [\"Joao\", \"Maria\", \"Jose\", \"Gabriela\", \"Sol\", \"Luna\", \"Bento\", \"Enzo\", \"Fernanda\"]\n",
    "tamanhos = list(map(lambda nome:len(nome),nomes))\n",
    "tamanhos=sorted(tamanhos)\n",
    "print(ordena_por_tamanho(nomes,tamanhos))"
   ]
  },
  {
   "cell_type": "markdown",
   "id": "8710b1a7",
   "metadata": {},
   "source": [
    "### Q4.\n",
    "\n",
    "Crie uma lista de listas (uma matriz de 2 dimensões) de tamanho $n \\times n$, com $n$ dado pelo usuário. Cada elemento da matriz deve ser o produto dos índices da linha pela coluna.\n",
    "\n",
    "Exemplo:\n",
    "```\n",
    "Digite n: 4\n",
    "Matriz:\n",
    "[[0, 0, 0, 0],\n",
    " [0, 1, 2, 3],\n",
    " [0, 2, 4, 6],\n",
    " [0, 3, 6, 9]]\n",
    "```"
   ]
  },
  {
   "cell_type": "code",
   "execution_count": 18,
   "id": "0b7ee921",
   "metadata": {},
   "outputs": [
    {
     "name": "stdin",
     "output_type": "stream",
     "text": [
      "Digite n:  4\n"
     ]
    },
    {
     "name": "stdout",
     "output_type": "stream",
     "text": [
      "[0, 0, 0, 0]\n",
      "[0, 1, 2, 3]\n",
      "[0, 2, 4, 6]\n",
      "[0, 3, 6, 9]\n"
     ]
    }
   ],
   "source": [
    "# Implemente sua solução aqui\n",
    "n=int(input(\"Digite n: \"))\n",
    "lista=[]\n",
    "linha=[]\n",
    "for i in range(n):\n",
    "    linha=[]\n",
    "    for j in range(n):\n",
    "        linha.append(i*j)\n",
    "    lista.append(linha)\n",
    "    print(linha)\n",
    "        \n",
    "    "
   ]
  },
  {
   "cell_type": "markdown",
   "id": "f41781df",
   "metadata": {},
   "source": [
    "### Q5.\n",
    "\n",
    "Dada uma lista de números inteiros, implemente uma função em Python chamada ```pares_unicos``` que encontre e retorne todos os pares únicos de elementos na lista cuja soma seja igual a um determinado valor. Considere que a ordem dos pares não é relevante."
   ]
  },
  {
   "cell_type": "code",
   "execution_count": null,
   "id": "f9bc67dc-1cce-4ae5-b0c1-efe1c5907c91",
   "metadata": {},
   "outputs": [],
   "source": []
  },
  {
   "cell_type": "code",
   "execution_count": 16,
   "id": "7a76f765",
   "metadata": {},
   "outputs": [
    {
     "name": "stdout",
     "output_type": "stream",
     "text": [
      "['(3,7)', '(4,6)', '(5,5)']\n"
     ]
    }
   ],
   "source": [
    "def pares_unicos(numeros):\n",
    "    lista=[]\n",
    "    for i in numeros:\n",
    "        for j in numeros[numeros.index(i)::]:\n",
    "            if i+j==10:\n",
    "                lista.append(f\"({str(i)},{str(j)})\")\n",
    "    return lista\n",
    "\n",
    "nums = [3, 4, 5, 6, 7]\n",
    "print(pares_unicos(nums))"
   ]
  },
  {
   "cell_type": "markdown",
   "id": "87e44893",
   "metadata": {},
   "source": [
    "### Q5.\n",
    "\n",
    "Escreva um programa para encontrar a diferença entre duas listas, incluindo elementos duplicados.\n",
    "\n",
    "Ex:\n",
    "```\n",
    "Listas originais: \n",
    "[1, 1, 2, 3, 3, 4, 4, 5, 6, 7]\n",
    "[1, 1, 2, 4, 5, 6]\n",
    "Diferença entre as listas:\n",
    "[3, 3, 4, 7]\n",
    "```"
   ]
  },
  {
   "cell_type": "code",
   "execution_count": null,
   "id": "7edc027c",
   "metadata": {},
   "outputs": [],
   "source": []
  },
  {
   "cell_type": "code",
   "execution_count": 50,
   "id": "f7e2186d-dc14-4082-b178-6d38032eb11d",
   "metadata": {},
   "outputs": [
    {
     "name": "stdout",
     "output_type": "stream",
     "text": [
      "Diferença entre as listas: [3, 3, 7, 7, 87, 8, 9, 94]\n"
     ]
    }
   ],
   "source": [
    "def diferenca(a, b):\n",
    "    diferenca = []\n",
    "    for elemento in a:\n",
    "        if elemento not in b:\n",
    "            diferenca.append(elemento)\n",
    "        else:\n",
    "            b.remove(elemento)\n",
    "    diferenca.extend(b)\n",
    "    return diferenca\n",
    "lista1 = [1, 1, 2, 3, 3, 4, 4, 5, 6, 7, 7, 87]\n",
    "lista2 = [1, 1, 2, 4, 5, 6, 8, 9, 4, 94]\n",
    "# Exibir a diferença\n",
    "print(f\"Diferença entre as listas: {diferenca(lista1,lista2)}\")"
   ]
  },
  {
   "cell_type": "markdown",
   "id": "f4c4236d",
   "metadata": {},
   "source": [
    "### Q6.\n",
    "\n",
    "Dada uma lista aleatória, escreva um programa que separa os valores em listas menores de acordo com o tamanho solicitado. Caso não seja possível repartir igualmente a lista original, a última sublista deve conter os elementos remanescentes, como indicado no exemplo a seguir.\n",
    "\n",
    "Note que seu programa deve continuar executando em um laço infinito até que o usuário informe o tamanho 0 na entrada solicitada.\n",
    "\n",
    "```\n",
    "Lista original:\n",
    "[12, 45, 23, 67, 78, 90, 45, 32, 100, 76, 38, 62, 73, 29, 83]\n",
    "\n",
    "Tamanho para divisão: 3\n",
    "Subslistas:\n",
    "[[12, 45, 23], [67, 78, 90], [45, 32, 100], [76, 38, 62], [73, 29, 83]]\n",
    "\n",
    "Tamanho para divisão: 4\n",
    "Subslistas: [[12, 45, 23, 67], [78, 90, 45, 32], [100, 76, 38, 62], [73, 29, 83]]\n",
    "\n",
    "Tamanho para divisão: 0\n",
    "```"
   ]
  },
  {
   "cell_type": "code",
   "execution_count": 14,
   "id": "792563de",
   "metadata": {},
   "outputs": [
    {
     "name": "stdin",
     "output_type": "stream",
     "text": [
      "Digite o tamanho da divisão:  6\n"
     ]
    },
    {
     "name": "stdout",
     "output_type": "stream",
     "text": [
      "[11, 63, 99, 27, 50, 84, 52, 78, 13, 79, 71, 8, 14, 46, 80, 12, 33, 72, 50, 31]\n"
     ]
    },
    {
     "data": {
      "text/plain": [
       "[[11, 63, 99, 27, 50, 84],\n",
       " [52, 78, 13, 79, 71, 8],\n",
       " [14, 46, 80, 12, 33, 72],\n",
       " [50, 31]]"
      ]
     },
     "execution_count": 14,
     "metadata": {},
     "output_type": "execute_result"
    }
   ],
   "source": [
    "import random\n",
    "numeros = [random.randint(1,100) for i in range(20)]\n",
    "tamanho=int(input(\"Digite o tamanho da divisão: \"))\n",
    "print(numeros)\n",
    "def divisao(lista,tam):\n",
    "    i=0\n",
    "    sublistas=[]\n",
    "    sublista=[]\n",
    "    for n in lista:\n",
    "        i+=1\n",
    "        sublista.append(n)\n",
    "        if i==tam or lista.index(n)==19:\n",
    "            i=0\n",
    "            sublistas.append(sublista)\n",
    "            sublista=[]\n",
    "    return sublistas\n",
    "\n",
    "divisao(numeros,tamanho)\n",
    "\n",
    "# Implemente sua solução aqui"
   ]
  },
  {
   "cell_type": "markdown",
   "id": "c65be32f",
   "metadata": {},
   "source": [
    "### Q7.\n",
    "\n",
    "Você está desenvolvendo um programa para determinar o vencedor de um jogo da velha. Escreva uma função ```avalia_tabuleiro()``` que recebe uma lista representando o estado atual do tabuleiro e determina se há um vencedor. \n",
    "\n",
    "A lista terá 3 sublistas, cada uma representando uma linha do tabuleiro. Cada elemento das sublistas pode ser 'X', 'O' ou vazio (' ').\n",
    "\n",
    "O programa deve imprimir o vencedor ('X', 'O'), se houver um, ou \"Empate\" se não houver vencedor. Um vencedor é determinado se houver três 'X' ou três 'O' em linha (horizontal, vertical ou diagonal).\n",
    "\n",
    "Exemplo:\n",
    "```python\n",
    "tabuleiro = [\n",
    "    ['X', 'O', 'X'],\n",
    "    [' ', 'X', 'O'],\n",
    "    ['O', ' ', 'O']\n",
    "]\n",
    "```\n",
    "O resultado seria \"Empate\", pois não há um vencedor no exemplo fornecido. \n",
    "\n",
    "Exemplo 2:\n",
    "```python\n",
    "tabuleiro = [\n",
    "    ['O', 'X', 'O'],\n",
    "    ['X', 'O', 'X'],\n",
    "    ['X', ' ', 'O']\n",
    "]\n",
    "```\n",
    "O resultado seria \"O\", pois 'O' venceu na diagonal central."
   ]
  },
  {
   "cell_type": "code",
   "execution_count": 32,
   "id": "720ca24d",
   "metadata": {},
   "outputs": [
    {
     "name": "stdout",
     "output_type": "stream",
     "text": [
      "X\n",
      "X\n",
      "Empate\n",
      "O\n",
      "Empate\n"
     ]
    }
   ],
   "source": [
    "### Escreva a função avalia_tabuleiro()\n",
    "def avalia_tabuleiro(tab):\n",
    "    if tab[0][0]==tab[0][1]==tab[0][2]:\n",
    "        v=tab[0][0]\n",
    "    elif tab[1][0]==tab[1][1]==tab[1][2]:\n",
    "       v=tab[1][0]\n",
    "    elif tab[2][0]==tab[2][1]==tab[2][2]:\n",
    "       v=tab[2][0]\n",
    "    elif tab[0][0]==tab[1][0]==tab[2][0]:\n",
    "        v=tab[2][0]\n",
    "    elif tab[0][1]==tab[1][1]==tab[2][1]:\n",
    "        v=tab[0][1]\n",
    "    elif tab[0][2]==tab[1][2]==tab[2][2]:\n",
    "        v=tab[0][2]\n",
    "    elif tab[0][0]==tab[1][1]==tab[2][2]:\n",
    "        v=tab[1][1]\n",
    "    elif tab[0][2]==tab[1][1]==tab[2][0]:\n",
    "        v=tab[1][1]\n",
    "    else:\n",
    "        v=\"Empate\"\n",
    "    if v==\" \":\n",
    "        v=\"Empate\"\n",
    "    return print(v)\n",
    "\n",
    "\n",
    "### teste a função nos seguintes tabuleiros\n",
    "\n",
    "tabuleiro1 = [\n",
    "    ['X', 'O', 'X'],\n",
    "    [' ', 'X', 'O'],\n",
    "    ['O', ' ', 'X']\n",
    "]\n",
    "\n",
    "tabuleiro2 = [\n",
    "    ['X', 'O', 'O'],\n",
    "    ['X', 'X', 'O'],\n",
    "    ['X', 'O', 'X']\n",
    "]\n",
    "\n",
    "tabuleiro3 = [\n",
    "    [' ', ' ', ' '],\n",
    "    ['X', ' ', 'O'],\n",
    "    ['O', 'X', 'X']\n",
    "]\n",
    "\n",
    "tabuleiro4 = [\n",
    "    ['O', 'O', 'O'],\n",
    "    ['X', ' ', 'X'],\n",
    "    ['O', 'X', 'X']\n",
    "]\n",
    "\n",
    "tabuleiro5 = [\n",
    "    ['X', 'X', 'O'],\n",
    "    ['X', ' ', 'O'],\n",
    "    ['O', 'O', 'X']\n",
    "]\n",
    "avalia_tabuleiro(tabuleiro1)\n",
    "avalia_tabuleiro(tabuleiro2)\n",
    "avalia_tabuleiro(tabuleiro3)\n",
    "avalia_tabuleiro(tabuleiro4)\n",
    "avalia_tabuleiro(tabuleiro5)"
   ]
  },
  {
   "cell_type": "code",
   "execution_count": null,
   "id": "ed1ae4b6-5abc-40b5-a362-704f2fac2cc6",
   "metadata": {},
   "outputs": [],
   "source": []
  }
 ],
 "metadata": {
  "kernelspec": {
   "display_name": "Python 3 (ipykernel)",
   "language": "python",
   "name": "python3"
  },
  "language_info": {
   "codemirror_mode": {
    "name": "ipython",
    "version": 3
   },
   "file_extension": ".py",
   "mimetype": "text/x-python",
   "name": "python",
   "nbconvert_exporter": "python",
   "pygments_lexer": "ipython3",
   "version": "3.11.7"
  }
 },
 "nbformat": 4,
 "nbformat_minor": 5
}
